{
 "cells": [
  {
   "cell_type": "markdown",
   "metadata": {
    "collapsed": true
   },
   "source": [
    "# Investigating Data of Hackers News Posts\n",
    "\n",
    "### Hacker News Posts\n",
    "Hacker News, a popular site where technology related stories (or 'posts') are voted and commented upon. \n",
    "\n",
    "The two types of posts we'll explore\n",
    "- Ask HN \n",
    "- Show HN.\n",
    "\n",
    "### Work flow of Hacker News Posts\n",
    "Users submit Ask HN posts to ask the Hacker News community a specific question, such as \"What is the best online course you've ever taken?\" Likewise, users submit Show HN posts to show the Hacker News community a project, product, or just generally something interesting.\n",
    "\n",
    "### Objective of this notebook\n",
    "We'll specifically compare these two types of posts to determine the following:\n",
    "\n",
    "- Do Ask HN or Show HN receive more comments on average?\n",
    "- Do posts created at a certain time receive more comments on average?\n",
    "\n",
    "*It should be noted that the data set we're working with was reduced from almost 300,000 rows to approximately 20,000 rows by removing all submissions that did not receive any comments, and then randomly sampling from the remaining submissions.*"
   ]
  },
  {
   "cell_type": "code",
   "execution_count": 1,
   "metadata": {},
   "outputs": [
    {
     "name": "stdout",
     "output_type": "stream",
     "text": [
      "['id', 'title', 'url', 'num_points', 'num_comments', 'author', 'created_at']\n"
     ]
    }
   ],
   "source": [
    "# using csv module to read the hacker-news.csv\n",
    "import csv\n",
    "\n",
    "file_opened = open('hacker_news.csv')\n",
    "read_file = csv.reader(file_opened)\n",
    "\n",
    "# converting to list\n",
    "hacker_news = list(read_file)\n",
    "\n",
    "# extract header\n",
    "header = hacker_news[0]\n",
    "\n",
    "# view header\n",
    "print(header)"
   ]
  },
  {
   "cell_type": "markdown",
   "metadata": {},
   "source": [
    "We can see above that the data set contains the title of the posts, the number of comments for each post, the author of each post and the date the post was created. "
   ]
  },
  {
   "cell_type": "code",
   "execution_count": 2,
   "metadata": {},
   "outputs": [
    {
     "data": {
      "text/plain": [
       "[['12224879',\n",
       "  'Interactive Dynamic Video',\n",
       "  'http://www.interactivedynamicvideo.com/',\n",
       "  '386',\n",
       "  '52',\n",
       "  'ne0phyte',\n",
       "  '8/4/2016 11:52'],\n",
       " ['10975351',\n",
       "  'How to Use Open Source and Shut the Fuck Up at the Same Time',\n",
       "  'http://hueniverse.com/2016/01/26/how-to-use-open-source-and-shut-the-fuck-up-at-the-same-time/',\n",
       "  '39',\n",
       "  '10',\n",
       "  'josep2',\n",
       "  '1/26/2016 19:30'],\n",
       " ['11964716',\n",
       "  \"Florida DJs May Face Felony for April Fools' Water Joke\",\n",
       "  'http://www.thewire.com/entertainment/2013/04/florida-djs-april-fools-water-joke/63798/',\n",
       "  '2',\n",
       "  '1',\n",
       "  'vezycash',\n",
       "  '6/23/2016 22:20'],\n",
       " ['11919867',\n",
       "  'Technology ventures: From Idea to Enterprise',\n",
       "  'https://www.amazon.com/Technology-Ventures-Enterprise-Thomas-Byers/dp/0073523429',\n",
       "  '3',\n",
       "  '1',\n",
       "  'hswarna',\n",
       "  '6/17/2016 0:01'],\n",
       " ['10301696',\n",
       "  'Note by Note: The Making of Steinway L1037 (2007)',\n",
       "  'http://www.nytimes.com/2007/11/07/movies/07stein.html?_r=0',\n",
       "  '8',\n",
       "  '2',\n",
       "  'walterbell',\n",
       "  '9/30/2015 4:12']]"
      ]
     },
     "execution_count": 2,
     "metadata": {},
     "output_type": "execute_result"
    }
   ],
   "source": [
    "# extract data\n",
    "hacker_news = hacker_news[1:]\n",
    "\n",
    "# view first five rows of data\n",
    "hacker_news[:5]"
   ]
  },
  {
   "cell_type": "markdown",
   "metadata": {},
   "source": [
    "## Identifying and Separating Ask HN and Show HN Posts\n",
    "First, we'll identify posts that begin with either Ask HN or Show HN and separate the data for those two types of posts into different lists. Separating the data makes it easier to analyze in the following steps."
   ]
  },
  {
   "cell_type": "code",
   "execution_count": 3,
   "metadata": {},
   "outputs": [
    {
     "name": "stdout",
     "output_type": "stream",
     "text": [
      "Number of Ask HN posts are 1744 \n",
      "Number of Show HN posts are 1162 \n",
      "Number of Other posts are 17194 \n"
     ]
    }
   ],
   "source": [
    "# Identify posts that begin with either `Ask HN` or `Show HN` and separate the data into different lists.\n",
    "ask_posts = []\n",
    "show_posts =[]\n",
    "other_posts = []\n",
    "\n",
    "for row in hacker_news:\n",
    "    title_name = row[1]\n",
    "    if title_name.lower().startswith(\"ask hn\"):\n",
    "        ask_posts.append(row)\n",
    "    elif title_name.lower().startswith(\"show hn\"):\n",
    "        show_posts.append(row)\n",
    "    else:\n",
    "        other_posts.append(row)\n",
    "        \n",
    "print(\"Number of Ask HN posts are {} \".format(len(ask_posts)))\n",
    "print(\"Number of Show HN posts are {} \".format(len(show_posts)))\n",
    "print(\"Number of Other posts are {} \".format(len(other_posts)))"
   ]
  },
  {
   "cell_type": "code",
   "execution_count": 4,
   "metadata": {
    "scrolled": false
   },
   "outputs": [
    {
     "data": {
      "text/plain": [
       "[['12296411',\n",
       "  'Ask HN: How to improve my personal website?',\n",
       "  '',\n",
       "  '2',\n",
       "  '6',\n",
       "  'ahmedbaracat',\n",
       "  '8/16/2016 9:55'],\n",
       " ['10610020',\n",
       "  'Ask HN: Am I the only one outraged by Twitter shutting down share counts?',\n",
       "  '',\n",
       "  '28',\n",
       "  '29',\n",
       "  'tkfx',\n",
       "  '11/22/2015 13:43'],\n",
       " ['11610310',\n",
       "  'Ask HN: Aby recent changes to CSS that broke mobile?',\n",
       "  '',\n",
       "  '1',\n",
       "  '1',\n",
       "  'polskibus',\n",
       "  '5/2/2016 10:14'],\n",
       " ['12210105',\n",
       "  'Ask HN: Looking for Employee #3 How do I do it?',\n",
       "  '',\n",
       "  '1',\n",
       "  '3',\n",
       "  'sph130',\n",
       "  '8/2/2016 14:20'],\n",
       " ['10394168',\n",
       "  'Ask HN: Someone offered to buy my browser extension from me. What now?',\n",
       "  '',\n",
       "  '28',\n",
       "  '17',\n",
       "  'roykolak',\n",
       "  '10/15/2015 16:38']]"
      ]
     },
     "execution_count": 4,
     "metadata": {},
     "output_type": "execute_result"
    }
   ],
   "source": [
    "# display first five ask hn posts\n",
    "ask_posts[:5]"
   ]
  },
  {
   "cell_type": "code",
   "execution_count": 5,
   "metadata": {},
   "outputs": [
    {
     "data": {
      "text/plain": [
       "[['10627194',\n",
       "  'Show HN: Wio Link  ESP8266 Based Web of Things Hardware Development Platform',\n",
       "  'https://iot.seeed.cc',\n",
       "  '26',\n",
       "  '22',\n",
       "  'kfihihc',\n",
       "  '11/25/2015 14:03'],\n",
       " ['10646440',\n",
       "  'Show HN: Something pointless I made',\n",
       "  'http://dn.ht/picklecat/',\n",
       "  '747',\n",
       "  '102',\n",
       "  'dhotson',\n",
       "  '11/29/2015 22:46'],\n",
       " ['11590768',\n",
       "  'Show HN: Shanhu.io, a programming playground powered by e8vm',\n",
       "  'https://shanhu.io',\n",
       "  '1',\n",
       "  '1',\n",
       "  'h8liu',\n",
       "  '4/28/2016 18:05'],\n",
       " ['12178806',\n",
       "  'Show HN: Webscope  Easy way for web developers to communicate with Clients',\n",
       "  'http://webscopeapp.com',\n",
       "  '3',\n",
       "  '3',\n",
       "  'fastbrick',\n",
       "  '7/28/2016 7:11'],\n",
       " ['10872799',\n",
       "  'Show HN: GeoScreenshot  Easily test Geo-IP based web pages',\n",
       "  'https://www.geoscreenshot.com/',\n",
       "  '1',\n",
       "  '9',\n",
       "  'kpsychwave',\n",
       "  '1/9/2016 20:45']]"
      ]
     },
     "execution_count": 5,
     "metadata": {},
     "output_type": "execute_result"
    }
   ],
   "source": [
    "# display first five show hn posts\n",
    "show_posts[:5]"
   ]
  },
  {
   "cell_type": "markdown",
   "metadata": {},
   "source": [
    "## Objective 1: Do Ask HN or Show HN receive more comments on average?\n",
    "\n",
    "Now that we separated ask posts and show posts into different lists, we'll calculate the average number of comments each type of post receives."
   ]
  },
  {
   "cell_type": "code",
   "execution_count": 6,
   "metadata": {},
   "outputs": [
    {
     "name": "stdout",
     "output_type": "stream",
     "text": [
      "The sum of ask posts is 24483\n",
      "The average of ask posts is 14.038417\n"
     ]
    }
   ],
   "source": [
    "# calculate total comments on ask posts\n",
    "ask_posts_total_comments = 0\n",
    "\n",
    "# total number of ask posts\n",
    "n_ask_posts = len(ask_posts)\n",
    "\n",
    "# adding up all the comments\n",
    "for row in ask_posts:\n",
    "    n_comments = int(row[4])\n",
    "    ask_posts_total_comments += n_comments\n",
    "\n",
    "# calculating the average of comments made on asks posts\n",
    "ask_post_average = round(ask_posts_total_comments/n_ask_posts,6)\n",
    "\n",
    "print(\"The sum of ask posts is {}\".format(ask_posts_total_comments))\n",
    "print(\"The average of ask posts is {}\".format(ask_post_average))"
   ]
  },
  {
   "cell_type": "code",
   "execution_count": 7,
   "metadata": {},
   "outputs": [
    {
     "name": "stdout",
     "output_type": "stream",
     "text": [
      "The sum of ask posts is 11988\n",
      "The average of ask posts is 10.316695\n"
     ]
    }
   ],
   "source": [
    "# calculate total comments on show posts\n",
    "show_posts_total_comments = 0\n",
    "\n",
    "# total number of show posts\n",
    "n_show_posts = len(show_posts)\n",
    "\n",
    "# adding up all the comments\n",
    "for row in show_posts:\n",
    "    n_comments = int(row[4])\n",
    "    show_posts_total_comments += n_comments\n",
    "\n",
    "# calculating the average of comments made on asks posts\n",
    "show_posts_average = round(show_posts_total_comments/n_show_posts,6)\n",
    "\n",
    "print(\"The sum of ask posts is {}\".format(show_posts_total_comments))\n",
    "print(\"The average of ask posts is {}\".format(show_posts_average))"
   ]
  },
  {
   "cell_type": "markdown",
   "metadata": {},
   "source": [
    "## Conclusion\n",
    "On average, ask posts in our sample receive approximately **14 comments average**, whereas show posts receive approximately **10 comments average**. "
   ]
  },
  {
   "cell_type": "markdown",
   "metadata": {},
   "source": [
    "## Objective 2: Do posts created at a certain time receive more comments on average?\n",
    "\n",
    "Next, we'll determine if there was a great traffic at a certain time. First, we'll find the amount of ask posts created during each hour of day, along with the number of comments those posts received. Then, we'll calculate the average amount of comments ask posts created at each hour of the day receive."
   ]
  },
  {
   "cell_type": "code",
   "execution_count": 13,
   "metadata": {},
   "outputs": [],
   "source": [
    "# for manipulating and parsing dates\n",
    "import datetime as dt\n",
    "\n",
    "# creating two dictionaries\n",
    "count_by_hour = {}\n",
    "comments_by_hour = {}\n",
    "\n",
    "# specifying date format recorded in dataset\n",
    "date_format = \"%m/%d/%Y %H:%M\"\n",
    "\n",
    "for row in ask_posts:\n",
    "    date = row[6]\n",
    "    n_comments = int(row[4])\n",
    "    #striping hours out of data\n",
    "    time = dt.datetime.strptime(date, date_format).strftime(\"%H\")\n",
    "    \n",
    "    if time in count_by_hour:\n",
    "        count_by_hour[time]+=1\n",
    "        comments_by_hour[time] += n_comments\n",
    "    else:\n",
    "        count_by_hour[time]=1\n",
    "        comments_by_hour[time]=1"
   ]
  },
  {
   "cell_type": "code",
   "execution_count": 14,
   "metadata": {},
   "outputs": [
    {
     "name": "stdout",
     "output_type": "stream",
     "text": [
      "{'22': 71, '20': 80, '23': 68, '21': 109, '10': 59, '18': 109, '17': 100, '01': 60, '15': 116, '03': 54, '07': 34, '04': 47, '11': 58, '14': 107, '19': 110, '00': 55, '13': 85, '16': 108, '02': 58, '05': 46, '06': 44, '09': 45, '12': 73, '08': 48}\n"
     ]
    }
   ],
   "source": [
    "print(count_by_hour)"
   ]
  },
  {
   "cell_type": "code",
   "execution_count": 12,
   "metadata": {},
   "outputs": [
    {
     "name": "stdout",
     "output_type": "stream",
     "text": [
      "{'22': 478, '20': 1721, '23': 543, '21': 1742, '10': 793, '18': 1438, '17': 1146, '01': 651, '15': 4477, '03': 421, '07': 266, '04': 335, '11': 640, '14': 1414, '19': 1186, '00': 438, '13': 1225, '16': 1798, '02': 1379, '05': 436, '06': 397, '09': 246, '12': 684, '08': 488}\n"
     ]
    }
   ],
   "source": [
    "print(comments_by_hour)"
   ]
  },
  {
   "cell_type": "code",
   "execution_count": 16,
   "metadata": {},
   "outputs": [
    {
     "data": {
      "text/plain": [
       "[['22', 6.732394366197183],\n",
       " ['20', 21.5125],\n",
       " ['23', 7.985294117647059],\n",
       " ['21', 15.98165137614679],\n",
       " ['10', 13.440677966101696],\n",
       " ['18', 13.192660550458715],\n",
       " ['17', 11.46],\n",
       " ['01', 10.85],\n",
       " ['15', 38.5948275862069],\n",
       " ['03', 7.796296296296297],\n",
       " ['07', 7.823529411764706],\n",
       " ['04', 7.127659574468085],\n",
       " ['11', 11.03448275862069],\n",
       " ['14', 13.214953271028037],\n",
       " ['19', 10.781818181818181],\n",
       " ['00', 7.963636363636364],\n",
       " ['13', 14.411764705882353],\n",
       " ['16', 16.64814814814815],\n",
       " ['02', 23.775862068965516],\n",
       " ['05', 9.478260869565217],\n",
       " ['06', 9.022727272727273],\n",
       " ['09', 5.466666666666667],\n",
       " ['12', 9.36986301369863],\n",
       " ['08', 10.166666666666666]]"
      ]
     },
     "execution_count": 16,
     "metadata": {},
     "output_type": "execute_result"
    }
   ],
   "source": [
    "# Calculate the average amount of comments `Ask HN` posts created at each hour of the day receive.\n",
    "avg_by_hour = []\n",
    "\n",
    "for hr in comments_by_hour:\n",
    "    avg_by_hour.append([hr, comments_by_hour[hr] / count_by_hour[hr]])\n",
    "\n",
    "avg_by_hour"
   ]
  },
  {
   "cell_type": "code",
   "execution_count": 17,
   "metadata": {},
   "outputs": [
    {
     "name": "stdout",
     "output_type": "stream",
     "text": [
      "[[6.732394366197183, '22'], [21.5125, '20'], [7.985294117647059, '23'], [15.98165137614679, '21'], [13.440677966101696, '10'], [13.192660550458715, '18'], [11.46, '17'], [10.85, '01'], [38.5948275862069, '15'], [7.796296296296297, '03'], [7.823529411764706, '07'], [7.127659574468085, '04'], [11.03448275862069, '11'], [13.214953271028037, '14'], [10.781818181818181, '19'], [7.963636363636364, '00'], [14.411764705882353, '13'], [16.64814814814815, '16'], [23.775862068965516, '02'], [9.478260869565217, '05'], [9.022727272727273, '06'], [5.466666666666667, '09'], [9.36986301369863, '12'], [10.166666666666666, '08']]\n"
     ]
    },
    {
     "data": {
      "text/plain": [
       "[[38.5948275862069, '15'],\n",
       " [23.775862068965516, '02'],\n",
       " [21.5125, '20'],\n",
       " [16.64814814814815, '16'],\n",
       " [15.98165137614679, '21'],\n",
       " [14.411764705882353, '13'],\n",
       " [13.440677966101696, '10'],\n",
       " [13.214953271028037, '14'],\n",
       " [13.192660550458715, '18'],\n",
       " [11.46, '17'],\n",
       " [11.03448275862069, '11'],\n",
       " [10.85, '01'],\n",
       " [10.781818181818181, '19'],\n",
       " [10.166666666666666, '08'],\n",
       " [9.478260869565217, '05'],\n",
       " [9.36986301369863, '12'],\n",
       " [9.022727272727273, '06'],\n",
       " [7.985294117647059, '23'],\n",
       " [7.963636363636364, '00'],\n",
       " [7.823529411764706, '07'],\n",
       " [7.796296296296297, '03'],\n",
       " [7.127659574468085, '04'],\n",
       " [6.732394366197183, '22'],\n",
       " [5.466666666666667, '09']]"
      ]
     },
     "execution_count": 17,
     "metadata": {},
     "output_type": "execute_result"
    }
   ],
   "source": [
    "swap_avg_by_hour = []\n",
    "\n",
    "for row in avg_by_hour:\n",
    "    swap_avg_by_hour.append([row[1], row[0]])\n",
    "    \n",
    "print(swap_avg_by_hour)\n",
    "\n",
    "sorted_swap = sorted(swap_avg_by_hour, reverse=True)\n",
    "\n",
    "sorted_swap"
   ]
  },
  {
   "cell_type": "code",
   "execution_count": 18,
   "metadata": {},
   "outputs": [
    {
     "name": "stdout",
     "output_type": "stream",
     "text": [
      "Top 5 Hours for 'Ask HN' Comments\n",
      "15:00: 38.59 average comments per post\n",
      "02:00: 23.78 average comments per post\n",
      "20:00: 21.51 average comments per post\n",
      "16:00: 16.65 average comments per post\n",
      "21:00: 15.98 average comments per post\n"
     ]
    }
   ],
   "source": [
    "# Sort the values and print the the 5 hours with the highest average comments.\n",
    "\n",
    "print(\"Top 5 Hours for 'Ask HN' Comments\")\n",
    "for avg, hr in sorted_swap[:5]:\n",
    "    print(\n",
    "        \"{}: {:.2f} average comments per post\".format(\n",
    "            dt.datetime.strptime(hr, \"%H\").strftime(\"%H:%M\"),avg\n",
    "        )\n",
    "    )"
   ]
  },
  {
   "cell_type": "code",
   "execution_count": 19,
   "metadata": {
    "collapsed": true
   },
   "outputs": [],
   "source": [
    "# creating two dictionaries\n",
    "count_by_hour = {}\n",
    "comments_by_hour = {}\n",
    "\n",
    "# specifying date format recorded in dataset\n",
    "date_format = \"%m/%d/%Y %H:%M\"\n",
    "\n",
    "for row in show_posts:\n",
    "    date = row[6]\n",
    "    n_comments = int(row[4])\n",
    "    #striping hours out of data\n",
    "    time = dt.datetime.strptime(date, date_format).strftime(\"%H\")\n",
    "    \n",
    "    if time in count_by_hour:\n",
    "        count_by_hour[time]+=1\n",
    "        comments_by_hour[time] += n_comments\n",
    "    else:\n",
    "        count_by_hour[time]=1\n",
    "        comments_by_hour[time]=1"
   ]
  },
  {
   "cell_type": "code",
   "execution_count": 20,
   "metadata": {},
   "outputs": [
    {
     "name": "stdout",
     "output_type": "stream",
     "text": [
      "{'22': 46, '20': 60, '23': 36, '21': 47, '10': 36, '18': 61, '17': 93, '01': 28, '15': 78, '03': 27, '07': 26, '04': 26, '11': 44, '14': 86, '19': 55, '00': 31, '13': 99, '16': 93, '02': 30, '05': 19, '06': 16, '09': 30, '12': 61, '08': 34}\n"
     ]
    }
   ],
   "source": [
    "print(count_by_hour)"
   ]
  },
  {
   "cell_type": "code",
   "execution_count": 21,
   "metadata": {},
   "outputs": [
    {
     "name": "stdout",
     "output_type": "stream",
     "text": [
      "{'22': 469, '20': 604, '23': 447, '21': 272, '10': 297, '18': 962, '17': 910, '01': 242, '15': 629, '03': 285, '07': 297, '04': 246, '11': 490, '14': 1135, '19': 539, '00': 487, '13': 946, '16': 1084, '02': 127, '05': 56, '06': 141, '09': 291, '12': 720, '08': 164}\n"
     ]
    }
   ],
   "source": [
    "print(comments_by_hour)"
   ]
  },
  {
   "cell_type": "code",
   "execution_count": 22,
   "metadata": {},
   "outputs": [
    {
     "data": {
      "text/plain": [
       "[['22', 10.195652173913043],\n",
       " ['20', 10.066666666666666],\n",
       " ['23', 12.416666666666666],\n",
       " ['21', 5.787234042553192],\n",
       " ['10', 8.25],\n",
       " ['18', 15.770491803278688],\n",
       " ['17', 9.78494623655914],\n",
       " ['01', 8.642857142857142],\n",
       " ['15', 8.064102564102564],\n",
       " ['03', 10.555555555555555],\n",
       " ['07', 11.423076923076923],\n",
       " ['04', 9.461538461538462],\n",
       " ['11', 11.136363636363637],\n",
       " ['14', 13.19767441860465],\n",
       " ['19', 9.8],\n",
       " ['00', 15.709677419354838],\n",
       " ['13', 9.555555555555555],\n",
       " ['16', 11.655913978494624],\n",
       " ['02', 4.233333333333333],\n",
       " ['05', 2.9473684210526314],\n",
       " ['06', 8.8125],\n",
       " ['09', 9.7],\n",
       " ['12', 11.80327868852459],\n",
       " ['08', 4.823529411764706]]"
      ]
     },
     "execution_count": 22,
     "metadata": {},
     "output_type": "execute_result"
    }
   ],
   "source": [
    "# Calculate the average amount of comments `SHOW HN` posts created at each hour of the day receive.\n",
    "avg_by_hour = []\n",
    "\n",
    "for hr in comments_by_hour:\n",
    "    avg_by_hour.append([hr, round(comments_by_hour[hr] / count_by_hour[hr]]))\n",
    "\n",
    "avg_by_hour"
   ]
  },
  {
   "cell_type": "code",
   "execution_count": 24,
   "metadata": {},
   "outputs": [
    {
     "name": "stdout",
     "output_type": "stream",
     "text": [
      "[[10.195652173913043, '22'], [10.066666666666666, '20'], [12.416666666666666, '23'], [5.787234042553192, '21'], [8.25, '10'], [15.770491803278688, '18'], [9.78494623655914, '17'], [8.642857142857142, '01'], [8.064102564102564, '15'], [10.555555555555555, '03'], [11.423076923076923, '07'], [9.461538461538462, '04'], [11.136363636363637, '11'], [13.19767441860465, '14'], [9.8, '19'], [15.709677419354838, '00'], [9.555555555555555, '13'], [11.655913978494624, '16'], [4.233333333333333, '02'], [2.9473684210526314, '05'], [8.8125, '06'], [9.7, '09'], [11.80327868852459, '12'], [4.823529411764706, '08']]\n"
     ]
    },
    {
     "data": {
      "text/plain": [
       "[[15.770491803278688, '18'],\n",
       " [15.709677419354838, '00'],\n",
       " [13.19767441860465, '14'],\n",
       " [12.416666666666666, '23'],\n",
       " [11.80327868852459, '12'],\n",
       " [11.655913978494624, '16'],\n",
       " [11.423076923076923, '07'],\n",
       " [11.136363636363637, '11'],\n",
       " [10.555555555555555, '03'],\n",
       " [10.195652173913043, '22'],\n",
       " [10.066666666666666, '20'],\n",
       " [9.8, '19'],\n",
       " [9.78494623655914, '17'],\n",
       " [9.7, '09'],\n",
       " [9.555555555555555, '13'],\n",
       " [9.461538461538462, '04'],\n",
       " [8.8125, '06'],\n",
       " [8.642857142857142, '01'],\n",
       " [8.25, '10'],\n",
       " [8.064102564102564, '15'],\n",
       " [5.787234042553192, '21'],\n",
       " [4.823529411764706, '08'],\n",
       " [4.233333333333333, '02'],\n",
       " [2.9473684210526314, '05']]"
      ]
     },
     "execution_count": 24,
     "metadata": {},
     "output_type": "execute_result"
    }
   ],
   "source": [
    "swap_avg_by_hour = []\n",
    "\n",
    "for row in avg_by_hour:\n",
    "    swap_avg_by_hour.append([row[1], row[0]])\n",
    "    \n",
    "print(swap_avg_by_hour)\n",
    "\n",
    "sorted_swap = sorted(swap_avg_by_hour, reverse=True)\n",
    "\n",
    "sorted_swap"
   ]
  },
  {
   "cell_type": "code",
   "execution_count": 25,
   "metadata": {},
   "outputs": [
    {
     "name": "stdout",
     "output_type": "stream",
     "text": [
      "Top 5 Hours for 'Show HN' Comments\n",
      "18:00: 15.77 average comments per post\n",
      "00:00: 15.71 average comments per post\n",
      "14:00: 13.20 average comments per post\n",
      "23:00: 12.42 average comments per post\n",
      "12:00: 11.80 average comments per post\n"
     ]
    }
   ],
   "source": [
    "# Sort the values and print the the 5 hours with the highest average comments.\n",
    "\n",
    "print(\"Top 5 Hours for 'Show HN' Comments\")\n",
    "for avg, hr in sorted_swap[:5]:\n",
    "    print(\n",
    "        \"{}: {:.2f} average comments per post\".format(\n",
    "            dt.datetime.strptime(hr, \"%H\").strftime(\"%H:%M\"),avg\n",
    "        )\n",
    "    )"
   ]
  },
  {
   "cell_type": "markdown",
   "metadata": {},
   "source": [
    "## Conclusion\n",
    "In this project, we have analyzed ask posts and show posts to determine which type of post and time receive the most comments on average. \n",
    "Based on our analysis, ASK HN posts has the most comments with an average of 14 comments and the time at which most comments were done is 18:00 with 38.59"
   ]
  }
 ],
 "metadata": {
  "kernelspec": {
   "display_name": "Python 3",
   "language": "python",
   "name": "python3"
  },
  "language_info": {
   "codemirror_mode": {
    "name": "ipython",
    "version": 3
   },
   "file_extension": ".py",
   "mimetype": "text/x-python",
   "name": "python",
   "nbconvert_exporter": "python",
   "pygments_lexer": "ipython3",
   "version": "3.7.6"
  }
 },
 "nbformat": 4,
 "nbformat_minor": 2
}
